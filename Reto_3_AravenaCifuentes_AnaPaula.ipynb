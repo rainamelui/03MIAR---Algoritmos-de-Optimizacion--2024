{
 "cells": [
  {
   "cell_type": "markdown",
   "metadata": {
    "id": "cdZ05HO16iwW"
   },
   "source": [
    "# Algoritmos de optimización - Reto 3\n",
    "\n",
    "Nombre: Ana Paula Aravena Cifuentes<br>\n",
    "Github: https://github.com/rainamelui/03MIAR---Algoritmos-de-Optimizacion--2024 <br>"
   ]
  },
  {
   "cell_type": "markdown",
   "metadata": {
    "id": "yNgggydp6nI0"
   },
   "source": [
    "Mejorar la implementación de colonia de hormigas implementada en clase sobre el TSP mediante una elección de nodo que tenga en consideración una función de probabilidad que depende de las feromonas."
   ]
  },
  {
   "cell_type": "code",
   "execution_count": 1,
   "metadata": {
    "colab": {
     "base_uri": "https://localhost:8080/"
    },
    "id": "Ku6PrPEl9V4u",
    "outputId": "3b2e2709-8c5e-4c66-eef0-a55a67291816"
   },
   "outputs": [
    {
     "name": "stdout",
     "output_type": "stream",
     "text": [
      "Requirement already satisfied: requests in c:\\users\\annie\\.conda\\envs\\tfg\\lib\\site-packages (2.28.1)\n",
      "Requirement already satisfied: urllib3<1.27,>=1.21.1 in c:\\users\\annie\\.conda\\envs\\tfg\\lib\\site-packages (from requests) (1.26.14)\n",
      "Requirement already satisfied: certifi>=2017.4.17 in c:\\users\\annie\\.conda\\envs\\tfg\\lib\\site-packages (from requests) (2023.7.22)\n",
      "Requirement already satisfied: charset-normalizer<3,>=2 in c:\\users\\annie\\.conda\\envs\\tfg\\lib\\site-packages (from requests) (2.0.4)\n",
      "Requirement already satisfied: idna<4,>=2.5 in c:\\users\\annie\\.conda\\envs\\tfg\\lib\\site-packages (from requests) (3.4)\n",
      "Requirement already satisfied: tsplib95 in c:\\users\\annie\\.conda\\envs\\tfg\\lib\\site-packages (0.7.1)\n",
      "Requirement already satisfied: Click>=6.0 in c:\\users\\annie\\.conda\\envs\\tfg\\lib\\site-packages (from tsplib95) (8.0.4)\n",
      "Requirement already satisfied: Deprecated~=1.2.9 in c:\\users\\annie\\.conda\\envs\\tfg\\lib\\site-packages (from tsplib95) (1.2.14)\n",
      "Requirement already satisfied: tabulate~=0.8.7 in c:\\users\\annie\\.conda\\envs\\tfg\\lib\\site-packages (from tsplib95) (0.8.10)\n",
      "Requirement already satisfied: networkx~=2.1 in c:\\users\\annie\\.conda\\envs\\tfg\\lib\\site-packages (from tsplib95) (2.8.4)\n",
      "Requirement already satisfied: colorama in c:\\users\\annie\\.conda\\envs\\tfg\\lib\\site-packages (from Click>=6.0->tsplib95) (0.4.6)\n",
      "Requirement already satisfied: wrapt<2,>=1.10 in c:\\users\\annie\\.conda\\envs\\tfg\\lib\\site-packages (from Deprecated~=1.2.9->tsplib95) (1.14.1)\n"
     ]
    }
   ],
   "source": [
    "#Modulo de llamadas http para descargar ficheros\n",
    "!pip install requests\n",
    "\n",
    "#Libreria del problema TSP: http://elib.zib.de/pub/mp-testdata/tsp/tsplib/tsplib.html\n",
    "!pip install tsplib95"
   ]
  },
  {
   "cell_type": "code",
   "execution_count": 2,
   "metadata": {
    "id": "lwwwi-Rr9haG"
   },
   "outputs": [],
   "source": [
    "import tsplib95\n",
    "import random\n",
    "from math import e\n",
    "import urllib.request\n",
    "import time\n",
    "import numpy as np\n",
    "import matplotlib.pyplot as plt\n",
    "import seaborn as sns\n",
    "import pandas as pd\n",
    "import gzip\n"
   ]
  },
  {
   "cell_type": "code",
   "execution_count": 3,
   "metadata": {
    "scrolled": true
   },
   "outputs": [],
   "source": [
    "#DATOS DEL PROBLEMA\n",
    "file = \"swiss42.tsp\"\n",
    "url = \"http://comopt.ifi.uni-heidelberg.de/software/TSPLIB95/tsp/swiss42.tsp.gz\"\n",
    "urllib.request.urlretrieve(url, file + '.gz')\n",
    "\n",
    "with gzip.open(file + '.gz', 'rb') as f_in:\n",
    "    with open(file, 'wb') as f_out:\n",
    "        f_out.write(f_in.read())\n",
    "\n",
    "problem = tsplib95.load(file)\n",
    "\n",
    "#Nodos\n",
    "Nodos = list(problem.get_nodes())\n",
    "\n",
    "#Devuelve la distancia entre dos nodos\n",
    "def distancia(a,b, problem):\n",
    "  return problem.get_weight(a,b)\n",
    "\n",
    "#Devuelve la distancia total de una trayectoria/solucion(lista de nodos)\n",
    "def distancia_total(solucion, problem):\n",
    "  distancia_total = 0\n",
    "  for i in range(len(solucion)-1):\n",
    "    distancia_total += distancia(solucion[i] ,solucion[i+1] ,  problem)\n",
    "  return distancia_total + distancia(solucion[len(solucion)-1] ,solucion[0], problem)"
   ]
  },
  {
   "cell_type": "markdown",
   "metadata": {
    "id": "hil3PCXB9iWf"
   },
   "source": [
    "## Algoritmo de colonia de hormigas\n",
    "\n",
    "La función Add_Nodo selecciona al azar un nodo con probabilidad uniforme.\n",
    "Para ser mas eficiente debería seleccionar el próximo nodo siguiendo la probabilidad correspondiente a la ecuación:\n",
    "\n",
    "$p^k_{ij}(t) = \\frac{[\\tau_{ij}(t)]^\\alpha[\\nu_{ij}]^\\beta}{\\sum_{l\\in J^k_i} [\\tau_{il}(t)]^\\alpha[\\nu_{il}]^\\beta}$, si $j \\in J^k_i$\n",
    "\n",
    "$p^k_{ij}(t) = 0$, si $j \\notin J^k_i$"
   ]
  },
  {
   "cell_type": "code",
   "execution_count": 4,
   "metadata": {
    "id": "xPQH-ClqvBPT"
   },
   "outputs": [],
   "source": [
    "import random\n",
    "\n",
    "def Add_Nodo(problem, H, T, alpha=1, beta=2):\n",
    "    Nodos = list(problem.get_nodes())\n",
    "    prob = []\n",
    "    actual = H[-1]\n",
    "    denominator_sum = 0\n",
    "    for nodo in Nodos:\n",
    "        if nodo not in H:\n",
    "            tau = T[actual][nodo] ** alpha\n",
    "            visibility = (1 / distancia(actual, nodo, problem)) ** beta\n",
    "            denominator_sum += tau * visibility\n",
    "    for nodo in Nodos:\n",
    "        if nodo not in H:\n",
    "            tau = T[actual][nodo] ** alpha\n",
    "            visibility = (1 / distancia(actual, nodo, problem)) ** beta\n",
    "            probability = (tau * visibility) / denominator_sum if denominator_sum != 0 else 0\n",
    "            prob.append((nodo, probability))\n",
    "    selected_node = random.choices(prob, weights=[p[1] for p in prob])[0][0]\n",
    "    return selected_node\n"
   ]
  },
  {
   "cell_type": "code",
   "execution_count": 5,
   "metadata": {
    "id": "1dAVZtH-jPaF"
   },
   "outputs": [],
   "source": [
    "def Add_Nodo_antiguo(problem, H ,T ) :\n",
    "  #Mejora:Establecer una funcion de probabilidad para\n",
    "  # añadir un nuevo nodo dependiendo de los nodos mas cercanos y de las feromonas depositadas\n",
    "  Nodos = list(problem.get_nodes())\n",
    "  return random.choice(   list(set(range(1,len(Nodos))) - set(H) )  )"
   ]
  },
  {
   "cell_type": "code",
   "execution_count": 6,
   "metadata": {
    "id": "BzzL8A_w-BeZ"
   },
   "outputs": [],
   "source": [
    "def Incrementa_Feromona(problem, T, H ) :\n",
    "  #Incrementa segun la calidad de la solución. Añadir una cantidad inversamente proporcional a la distancia total\n",
    "  for i in range(len(H)-1):\n",
    "    T[H[i]][H[i+1]] += 1000/distancia_total(H, problem)\n",
    "  return T\n",
    "\n",
    "def Evaporar_Feromonas(T ):\n",
    "  #Evapora 0.3 el valor de la feromona, sin que baje de 1\n",
    "  #Mejora:Podemos elegir diferentes funciones de evaporación dependiendo de la cantidad actual y de la suma total de feromonas depositadas,...\n",
    "  T = [[ max(T[i][j] - 0.3 , 1) for i in range(len(Nodos)) ] for j in range(len(Nodos))]\n",
    "  return T"
   ]
  },
  {
   "cell_type": "code",
   "execution_count": 7,
   "metadata": {
    "id": "8H08lRY7-Emq"
   },
   "outputs": [],
   "source": [
    "def hormigas(problem, N,modo) :\n",
    "  inicio_total = time.time()\n",
    "  #problem = datos del problema\n",
    "  #N = Número de agentes(hormigas)\n",
    "\n",
    "  #Nodos\n",
    "  Nodos = list(problem.get_nodes())\n",
    "  #Aristas\n",
    "  Aristas = list(problem.get_edges())\n",
    "\n",
    "  #Inicializa las aristas con una cantidad inicial de feromonas:1\n",
    "  #Mejora: inicializar con valores diferentes dependiendo diferentes criterios\n",
    "  T = [[ 1 for _ in range(len(Nodos)) ] for _ in range(len(Nodos))]\n",
    "\n",
    "\n",
    "  #Se generan los agentes(hormigas) que serán estructuras de caminos desde 0\n",
    "  Hormiga = [[0] for _ in range(N)]\n",
    "\n",
    "  #Recorre cada agente construyendo la solución\n",
    "  for h in range(N) :\n",
    "    #Para cada agente se construye un camino\n",
    "    for i in range(len(Nodos)-1) :\n",
    "\n",
    "      #Elige el siguiente nodo\n",
    "      if modo==1:\n",
    "        Nuevo_Nodo = Add_Nodo(problem, Hormiga[h] ,T )\n",
    "        Hormiga[h].append(Nuevo_Nodo)\n",
    "      elif modo==2:\n",
    "        Nuevo_Nodo = Add_Nodo_antiguo(problem, Hormiga[h] ,T )\n",
    "        Hormiga[h].append(Nuevo_Nodo)\n",
    "\n",
    "\n",
    "    #Incrementa feromonas en esa arista\n",
    "    T = Incrementa_Feromona(problem, T, Hormiga[h] )\n",
    "    #print(\"Feromonas(1)\", T)\n",
    "\n",
    "    #Evapora Feromonas\n",
    "    T = Evaporar_Feromonas(T)\n",
    "    #print(\"Feromonas(2)\", T)\n",
    "\n",
    "    #Seleccionamos el mejor agente\n",
    "  mejor_solucion = []\n",
    "  mejor_distancia = 10e100\n",
    "  for h in range(N) :\n",
    "    distancia_actual = distancia_total(Hormiga[h], problem)\n",
    "    if distancia_actual < mejor_distancia:\n",
    "      mejor_solucion = Hormiga[h]\n",
    "      mejor_distancia =distancia_actual\n",
    "  fin_total = time.time()\n",
    "  tiempo_total = fin_total - inicio_total  # Calcula el tiempo total de ejecución\n",
    "\n",
    "  print(\"Tiempo total de ejecución:\", tiempo_total, \"segundos\")\n",
    "\n",
    "  print(mejor_solucion)\n",
    "  print(mejor_distancia)\n",
    "  return(mejor_distancia,tiempo_total)"
   ]
  },
  {
   "cell_type": "code",
   "execution_count": 8,
   "metadata": {
    "colab": {
     "base_uri": "https://localhost:8080/"
    },
    "id": "aDKpGRA8jUUu",
    "outputId": "2e19211f-23e8-4459-90c5-4eeaba4763fd"
   },
   "outputs": [
    {
     "name": "stdout",
     "output_type": "stream",
     "text": [
      "Tiempo total de ejecución: 14.413258790969849 segundos\n",
      "[0, 27, 2, 28, 3, 1, 38, 34, 20, 33, 31, 36, 35, 17, 7, 32, 4, 26, 5, 25, 11, 12, 13, 19, 37, 15, 16, 14, 18, 29, 23, 41, 9, 22, 39, 21, 40, 24, 30, 8, 10, 6]\n",
      "2040\n"
     ]
    }
   ],
   "source": [
    "dist1,tiempo1=hormigas(problem, 1000, modo=1)"
   ]
  },
  {
   "cell_type": "code",
   "execution_count": 9,
   "metadata": {
    "colab": {
     "base_uri": "https://localhost:8080/"
    },
    "id": "7oHc7alvlJxx",
    "outputId": "66e0b611-a344-43ca-d44d-240cba46e5aa"
   },
   "outputs": [
    {
     "name": "stdout",
     "output_type": "stream",
     "text": [
      "Tiempo total de ejecución: 7.91011905670166 segundos\n",
      "[0, 36, 1, 4, 26, 10, 28, 19, 37, 17, 6, 30, 18, 14, 27, 2, 7, 25, 40, 21, 39, 3, 24, 5, 8, 41, 31, 15, 13, 11, 20, 35, 16, 38, 33, 32, 29, 9, 22, 23, 12, 34]\n",
      "3949\n"
     ]
    }
   ],
   "source": [
    "dist2,tiempo2=hormigas(problem, 1000, modo=2)"
   ]
  },
  {
   "cell_type": "code",
   "execution_count": 10,
   "metadata": {
    "colab": {
     "base_uri": "https://localhost:8080/"
    },
    "id": "sUugubs8sk0G",
    "outputId": "159b3338-2cb7-4c06-eadc-f0044198c89d"
   },
   "outputs": [
    {
     "name": "stdout",
     "output_type": "stream",
     "text": [
      "Tiempo total de ejecución: 29.191509008407593 segundos\n",
      "[0, 3, 2, 27, 30, 32, 28, 6, 1, 7, 31, 17, 37, 15, 16, 14, 19, 13, 5, 26, 18, 12, 11, 25, 8, 9, 21, 39, 20, 33, 34, 29, 4, 10, 41, 23, 40, 24, 38, 22, 35, 36]\n",
      "1900\n"
     ]
    }
   ],
   "source": [
    "dist3,tiempo3=hormigas(problem, 2000, modo=1)"
   ]
  },
  {
   "cell_type": "code",
   "execution_count": 11,
   "metadata": {
    "colab": {
     "base_uri": "https://localhost:8080/"
    },
    "id": "VF6ARysGsoL3",
    "outputId": "0eec8fc4-8c78-4b36-9cab-ea8b830d406a"
   },
   "outputs": [
    {
     "name": "stdout",
     "output_type": "stream",
     "text": [
      "Tiempo total de ejecución: 12.151171684265137 segundos\n",
      "[0, 22, 9, 38, 24, 33, 35, 31, 2, 23, 40, 4, 13, 37, 39, 8, 41, 19, 11, 26, 36, 5, 16, 28, 21, 27, 1, 3, 34, 32, 7, 20, 29, 30, 17, 12, 18, 25, 10, 6, 14, 15]\n",
      "3844\n"
     ]
    }
   ],
   "source": [
    "dist4,tiempo4=hormigas(problem, 2000, modo=2)"
   ]
  },
  {
   "cell_type": "code",
   "execution_count": 12,
   "metadata": {
    "colab": {
     "base_uri": "https://localhost:8080/"
    },
    "id": "UtpgR2h6wv-K",
    "outputId": "d14f72a5-73fa-42ca-fc73-8e68bba0373b"
   },
   "outputs": [
    {
     "name": "stdout",
     "output_type": "stream",
     "text": [
      "Tiempo total de ejecución: 7.892927646636963 segundos\n",
      "[0, 27, 2, 3, 4, 12, 11, 25, 8, 10, 29, 39, 21, 34, 20, 33, 18, 26, 6, 14, 16, 7, 1, 19, 13, 5, 15, 37, 36, 35, 31, 17, 32, 28, 30, 22, 38, 24, 40, 41, 23, 9]\n",
      "2047\n"
     ]
    }
   ],
   "source": [
    "dist5,tiempo5=hormigas(problem, 500, modo=1)"
   ]
  },
  {
   "cell_type": "code",
   "execution_count": 13,
   "metadata": {
    "colab": {
     "base_uri": "https://localhost:8080/"
    },
    "id": "QukdOLb2w19X",
    "outputId": "1be83a05-6e39-4a22-ca47-3e852fa1784d"
   },
   "outputs": [
    {
     "name": "stdout",
     "output_type": "stream",
     "text": [
      "Tiempo total de ejecución: 3.220031499862671 segundos\n",
      "[0, 30, 22, 36, 35, 34, 2, 8, 13, 21, 37, 17, 18, 7, 5, 6, 39, 29, 38, 27, 33, 19, 14, 15, 32, 3, 9, 24, 41, 12, 1, 16, 4, 28, 40, 23, 20, 31, 25, 10, 26, 11]\n",
      "3978\n"
     ]
    }
   ],
   "source": [
    "dist6,tiempo6=hormigas(problem, 500, modo=2)"
   ]
  },
  {
   "cell_type": "code",
   "execution_count": 14,
   "metadata": {
    "colab": {
     "base_uri": "https://localhost:8080/"
    },
    "id": "--EXtoOazZzd",
    "outputId": "8992afbc-23e4-4f0a-bf16-bc30272e3959"
   },
   "outputs": [
    {
     "name": "stdout",
     "output_type": "stream",
     "text": [
      "Tiempo total de ejecución: 16.252805709838867 segundos\n",
      "[0, 1, 26, 5, 25, 12, 11, 18, 13, 19, 14, 16, 15, 17, 37, 8, 41, 10, 29, 28, 30, 27, 2, 3, 4, 6, 7, 31, 36, 35, 20, 34, 38, 21, 39, 22, 9, 23, 40, 24, 32, 33]\n",
      "2030\n"
     ]
    }
   ],
   "source": [
    "dist7,tiempo7=hormigas(problem, 1200, modo=1)"
   ]
  },
  {
   "cell_type": "code",
   "execution_count": 15,
   "metadata": {
    "colab": {
     "base_uri": "https://localhost:8080/"
    },
    "id": "uHWi2kfUzZmz",
    "outputId": "a4b14b06-5076-4964-912c-136f6394304e"
   },
   "outputs": [
    {
     "name": "stdout",
     "output_type": "stream",
     "text": [
      "Tiempo total de ejecución: 8.001408338546753 segundos\n",
      "[0, 30, 35, 1, 12, 5, 18, 11, 32, 13, 7, 6, 26, 39, 10, 29, 20, 34, 19, 4, 21, 9, 40, 23, 25, 41, 22, 27, 15, 33, 3, 24, 38, 2, 36, 16, 17, 37, 31, 28, 8, 14]\n",
      "3882\n"
     ]
    }
   ],
   "source": [
    "dist8,tiempo8=hormigas(problem, 1200, modo=2)"
   ]
  },
  {
   "cell_type": "code",
   "execution_count": 16,
   "metadata": {
    "colab": {
     "base_uri": "https://localhost:8080/",
     "height": 407
    },
    "id": "gRmsSBnlxezb",
    "outputId": "7767e5ab-51ac-4af7-d2a7-989bea8fc621"
   },
   "outputs": [
    {
     "data": {
      "image/png": "[encoded data removed]",
      "text/plain": [
       "<Figure size 1000x400 with 2 Axes>"
      ]
     },
     "metadata": {},
     "output_type": "display_data"
    }
   ],
   "source": [
    "distancias = [dist1, dist2, dist3, dist4, dist5, dist6, dist7, dist8]\n",
    "tiempos = [tiempo1, tiempo2, tiempo3, tiempo4, tiempo5, tiempo6, tiempo7, tiempo8]\n",
    "num_agentes = [1000, 1000, 2000, 2000, 500, 500,1200,1200]\n",
    "implementacion = [\"Mejora\", \"Original\", \"Mejora\", \"Original\",\"Mejora\", \"Original\",\"Mejora\", \"Original\"]\n",
    "\n",
    "df = pd.DataFrame({'Tiempo': tiempos, 'Distancia': distancias, 'Número de Agentes': num_agentes, 'Implementacion': implementacion})\n",
    "\n",
    "plt.figure(figsize=(10, 4))\n",
    "\n",
    "plt.subplot(1, 2, 1)\n",
    "sns.scatterplot(data=df, y='Número de Agentes', x='Distancia', hue='Implementacion', palette='viridis', style='Implementacion', markers=['o', 's'])\n",
    "plt.ylabel('Número de Agentes')\n",
    "plt.xlabel('Distancia')\n",
    "plt.title('Comparación de Número de Agentes con Distancia')\n",
    "plt.legend(title='Implementacion')\n",
    "\n",
    "plt.subplot(1, 2, 2)\n",
    "sns.scatterplot(data=df, y='Número de Agentes', x='Tiempo', hue='Implementacion', palette='viridis', style='Implementacion', markers=['o', 's'])\n",
    "plt.ylabel('Número de Agentes')\n",
    "plt.xlabel('Tiempo (segundos)')\n",
    "plt.title('Comparación de Número de Agentes con Tiempo')\n",
    "plt.legend(title='Implementacion')\n",
    "\n",
    "plt.tight_layout()\n",
    "plt.show()\n"
   ]
  },
  {
   "cell_type": "code",
   "execution_count": null,
   "metadata": {},
   "outputs": [],
   "source": []
  }
 ],
 "metadata": {
  "colab": {
   "provenance": []
  },
  "kernelspec": {
   "display_name": "Python 3 (ipykernel)",
   "language": "python",
   "name": "python3"
  },
  "language_info": {
   "codemirror_mode": {
    "name": "ipython",
    "version": 3
   },
   "file_extension": ".py",
   "mimetype": "text/x-python",
   "name": "python",
   "nbconvert_exporter": "python",
   "pygments_lexer": "ipython3",
   "version": "3.10.9"
  }
 },
 "nbformat": 4,
 "nbformat_minor": 1
}
